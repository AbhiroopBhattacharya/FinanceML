{
  "nbformat": 4,
  "nbformat_minor": 0,
  "metadata": {
    "colab": {
      "name": "FinBot.ipynb",
      "provenance": [],
      "authorship_tag": "ABX9TyOxcYiZa+wFnwmPSBWVdC0a"
    },
    "kernelspec": {
      "name": "python3",
      "display_name": "Python 3"
    },
    "language_info": {
      "name": "python"
    }
  },
  "cells": [
    {
      "cell_type": "code",
      "metadata": {
        "colab": {
          "base_uri": "https://localhost:8080/"
        },
        "id": "M6rsi_emnMM4",
        "outputId": "23f828cb-07c1-4fee-ccbd-aaa31feeee44"
      },
      "source": [
        "pip install yfinance"
      ],
      "execution_count": 2,
      "outputs": [
        {
          "output_type": "stream",
          "text": [
            "Collecting yfinance\n",
            "  Downloading https://files.pythonhosted.org/packages/a7/ee/315752b9ef281ba83c62aa7ec2e2074f85223da6e7e74efb4d3e11c0f510/yfinance-0.1.59.tar.gz\n",
            "Requirement already satisfied: pandas>=0.24 in /usr/local/lib/python3.7/dist-packages (from yfinance) (1.1.5)\n",
            "Requirement already satisfied: numpy>=1.15 in /usr/local/lib/python3.7/dist-packages (from yfinance) (1.19.5)\n",
            "Requirement already satisfied: requests>=2.20 in /usr/local/lib/python3.7/dist-packages (from yfinance) (2.23.0)\n",
            "Requirement already satisfied: multitasking>=0.0.7 in /usr/local/lib/python3.7/dist-packages (from yfinance) (0.0.9)\n",
            "Collecting lxml>=4.5.1\n",
            "\u001b[?25l  Downloading https://files.pythonhosted.org/packages/30/c0/d0526314971fc661b083ab135747dc68446a3022686da8c16d25fcf6ef07/lxml-4.6.3-cp37-cp37m-manylinux2014_x86_64.whl (6.3MB)\n",
            "\u001b[K     |████████████████████████████████| 6.3MB 4.4MB/s \n",
            "\u001b[?25hRequirement already satisfied: pytz>=2017.2 in /usr/local/lib/python3.7/dist-packages (from pandas>=0.24->yfinance) (2018.9)\n",
            "Requirement already satisfied: python-dateutil>=2.7.3 in /usr/local/lib/python3.7/dist-packages (from pandas>=0.24->yfinance) (2.8.1)\n",
            "Requirement already satisfied: idna<3,>=2.5 in /usr/local/lib/python3.7/dist-packages (from requests>=2.20->yfinance) (2.10)\n",
            "Requirement already satisfied: chardet<4,>=3.0.2 in /usr/local/lib/python3.7/dist-packages (from requests>=2.20->yfinance) (3.0.4)\n",
            "Requirement already satisfied: urllib3!=1.25.0,!=1.25.1,<1.26,>=1.21.1 in /usr/local/lib/python3.7/dist-packages (from requests>=2.20->yfinance) (1.24.3)\n",
            "Requirement already satisfied: certifi>=2017.4.17 in /usr/local/lib/python3.7/dist-packages (from requests>=2.20->yfinance) (2020.12.5)\n",
            "Requirement already satisfied: six>=1.5 in /usr/local/lib/python3.7/dist-packages (from python-dateutil>=2.7.3->pandas>=0.24->yfinance) (1.15.0)\n",
            "Building wheels for collected packages: yfinance\n",
            "  Building wheel for yfinance (setup.py) ... \u001b[?25l\u001b[?25hdone\n",
            "  Created wheel for yfinance: filename=yfinance-0.1.59-py2.py3-none-any.whl size=23442 sha256=8573c5bcfd9a0e7ccd7b0e02bc68c90ea9141d9aff660f224d150368cc2fc15a\n",
            "  Stored in directory: /root/.cache/pip/wheels/f8/2a/0f/4b5a86e1d52e451757eb6bc17fd899629f0925c777741b6d04\n",
            "Successfully built yfinance\n",
            "Installing collected packages: lxml, yfinance\n",
            "  Found existing installation: lxml 4.2.6\n",
            "    Uninstalling lxml-4.2.6:\n",
            "      Successfully uninstalled lxml-4.2.6\n",
            "Successfully installed lxml-4.6.3 yfinance-0.1.59\n"
          ],
          "name": "stdout"
        }
      ]
    },
    {
      "cell_type": "code",
      "metadata": {
        "id": "tcRPAal4GeLN"
      },
      "source": [
        "# Loading libraries\n",
        "import numpy as np\n",
        "from numpy import hstack\n",
        "from keras.models import Sequential\n",
        "from keras.layers import LSTM\n",
        "from keras.layers import Dense\n",
        "from keras import callbacks\n",
        "from sklearn.model_selection import train_test_split\n",
        "from keras.layers import Flatten\n",
        "from keras.layers import TimeDistributed\n",
        "from keras.layers.convolutional import Conv1D\n",
        "from keras.layers.convolutional import MaxPooling1D\n",
        "import datetime\n",
        "import os\n",
        "import yfinance as yf\n",
        "from keras.models import model_from_json\n",
        "import requests"
      ],
      "execution_count": 21,
      "outputs": []
    },
    {
      "cell_type": "code",
      "metadata": {
        "id": "29SniGP_gPm9"
      },
      "source": [
        "def split_sequences(sequences, n_steps):\n",
        "        X, y = list(), list()\n",
        "        for i in range(len(sequences)):\n",
        "            end_ix = i + n_steps\n",
        "            if end_ix > len(sequences)-1:\n",
        "                break\n",
        "            seq_x, seq_y = sequences[i:end_ix, :], sequences[end_ix, :]\n",
        "            X.append(seq_x)\n",
        "            y.append(seq_y)\n",
        "        return np.array(X), np.array(y)\n"
      ],
      "execution_count": 19,
      "outputs": []
    },
    {
      "cell_type": "code",
      "metadata": {
        "id": "CkIFuYiGgRr8"
      },
      "source": [
        "def normalize_data(dataset):\n",
        "        cols = dataset.columns.tolist()\n",
        "        col_name = [0]*len(cols)\n",
        "        for i in range(len(cols)):\n",
        "            col_name[i] = i\n",
        "        dataset.columns = col_name\n",
        "        dtypes = dataset.dtypes.tolist()\n",
        "        # orig_answers = dataset[attr_row_predict].values\n",
        "        minmax = list()\n",
        "        for column in dataset:\n",
        "            dataset = dataset.astype({column: 'float32'})\n",
        "        for i in range(len(cols)):\n",
        "            col_values = dataset[col_name[i]]\n",
        "            value_min = min(col_values)\n",
        "            value_max = max(col_values)\n",
        "            minmax.append([value_min, value_max])\n",
        "        for column in dataset:\n",
        "            values = dataset[column].values\n",
        "            for i in range(len(values)):\n",
        "                values[i] = (values[i] - minmax[column][0]) / (minmax[column][1] - minmax[column][0])\n",
        "            dataset[column] = values\n",
        "        dataset[column] = values\n",
        "        return dataset,minmax\n"
      ],
      "execution_count": 5,
      "outputs": []
    },
    {
      "cell_type": "code",
      "metadata": {
        "id": "0zrKP1xAg3dn"
      },
      "source": [
        "def data_split(X,y):\n",
        "        X_train, X_test, y_train, y_test = train_test_split(X, y, test_size=0.33)\n",
        "        return X_train, X_test, y_train, y_test\n"
      ],
      "execution_count": 23,
      "outputs": []
    },
    {
      "cell_type": "code",
      "metadata": {
        "id": "0svSfsVPlPcW"
      },
      "source": [
        "def initialize_network(n_steps,n_features,optimizer='adam'):\n",
        "    model = Sequential()\n",
        "    model.add(TimeDistributed(Conv1D(filters=64, kernel_size=1, activation='relu'), input_shape=(None, n_steps, n_features)))\n",
        "    model.add(TimeDistributed(MaxPooling1D(pool_size=2)))\n",
        "    model.add(TimeDistributed(Flatten()))\n",
        "    model.add(LSTM(50, activation='relu'))\n",
        "    model.add(Dense(2))\n",
        "    model.compile(optimizer=optimizer, loss='mse')\n",
        "    return model"
      ],
      "execution_count": 8,
      "outputs": []
    },
    {
      "cell_type": "code",
      "metadata": {
        "id": "hxwCHIiyv90I"
      },
      "source": [
        "def train_model_1(X_train,y_train,n_steps, n_features,epochs):\n",
        "    model=initialize_network(n_steps=n_steps, n_features=n_features, optimizer='adam')\n",
        "    model.compile(optimizer='adam', loss='mse', metrics = None)\n",
        "    history = model.fit(X_train, y_train, epochs=epochs, batch_size=len(X_train)//4, verbose=2,validation_split = 0.3)\n",
        "    return model, history"
      ],
      "execution_count": 34,
      "outputs": []
    },
    {
      "cell_type": "code",
      "metadata": {
        "id": "J-jGyVPJlgq_"
      },
      "source": [
        "def evaluation(exe_time,X_test, y_test,X_train, y_train,history,model,optimizer,loss):\n",
        "    model.compile(optimizer=optimizer, loss=loss, metrics = None)\n",
        "    test_loss = model.evaluate(X_test, y_test, verbose=0)\n",
        "    train_loss = model.evaluate(X_train, y_train, verbose=0)\n",
        "    eval_test_loss = round(100-(test_loss*100),1)\n",
        "    eval_train_loss = round(100-(train_loss*100),1)\n",
        "    eval_average_loss = round((eval_test_loss + eval_train_loss)/2,1)\n",
        "    print(\"--- Training Report ---\")\n",
        "    print('Execution time: ',round(exe_time,2),'s')\n",
        "    print('Testing Accuracy:',eval_test_loss,'%')\n",
        "    print('Training Accuracy:',eval_train_loss,'%')\n",
        "    print('Average Network Accuracy:',eval_average_loss,'%')\n",
        "    return model,eval_test_loss"
      ],
      "execution_count": 26,
      "outputs": []
    },
    {
      "cell_type": "code",
      "metadata": {
        "id": "6Q4oaI-Ylj0j"
      },
      "source": [
        "def market_predict(model,minmax,seq_len,n_features,n_steps,data,test_loss):\n",
        "    pred_data = data[-1].reshape((len(data[-1]),1, n_steps, n_features))\n",
        "    pred = model.predict(pred_data)[0]\n",
        "    appro_loss = list()\n",
        "    for i in range(len(pred)):\n",
        "        pred[i] = pred[i] * (minmax[i][1] - minmax[i][0]) + minmax[i][0]\n",
        "        appro_loss.append(((100-test_loss)/100) * (minmax[i][1] - minmax[i][0]))\n",
        "    return pred,appro_loss\n"
      ],
      "execution_count": 27,
      "outputs": []
    },
    {
      "cell_type": "code",
      "metadata": {
        "id": "nRst0PYBl6Ec"
      },
      "source": [
        "def create_order(pred_price,company,test_loss,appro_loss):\n",
        "    open_price,close_price = pred_price[0],pred_price[1]\n",
        "    if open_price > close_price:\n",
        "        side = 'sell'\n",
        "    elif open_price < close_price:\n",
        "        side = 'buy'\n",
        "    if side == 'buy':\n",
        "        order = {\n",
        "            'symbol':company,\n",
        "            'qty':round(20*(test_loss/100)),\n",
        "            'type':'stop_limit',\n",
        "            'time_in_force':'day',\n",
        "            'side': 'buy',\n",
        "            'take_profit': close_price + appro_loss,\n",
        "            'stop_loss': close_price - appro_loss\n",
        "                }\n",
        "    elif side == 'sell':\n",
        "        order = {\n",
        "            'symbol':company,\n",
        "            'qty':round(20*(test_loss/100)),\n",
        "            'type':'stop_limit',\n",
        "            'time_in_force':'day',\n",
        "            'side': 'sell',\n",
        "            'take_profit':close_price - appro_loss,\n",
        "            'stop_loss':close_price + appro_loss\n",
        "                }\n",
        "    r = requests.post(ORDERS_URL, json = order,headers = HEADERS)\n",
        "    print(r.content)"
      ],
      "execution_count": 15,
      "outputs": []
    },
    {
      "cell_type": "code",
      "metadata": {
        "id": "zvWsdTHYGpIv"
      },
      "source": [
        "def data_setup(symbol,data_len,seq_len):\n",
        "    end = datetime.datetime.today().strftime('%Y-%m-%d')\n",
        "    start = datetime.datetime.strptime(end, '%Y-%m-%d') - datetime.timedelta(days=(data_len/0.463)) # 0.463 applied as markets are closed on weekends and public holidays\n",
        "    orig_dataset = yf.download(symbol,start,end)\n",
        "    close = orig_dataset['Close'].values\n",
        "    open_ = orig_dataset['Open'].values\n",
        "    high = orig_dataset['High'].values\n",
        "    low = orig_dataset['Low'].values\n",
        "    dataset,minmax = normalize_data(orig_dataset)\n",
        "    cols = dataset.columns.tolist()\n",
        "    data_seq = list()\n",
        "    for i in range(len(cols)):\n",
        "        if cols[i] < 4:\n",
        "            data_seq.append(dataset[cols[i]].values)\n",
        "            data_seq[i] = data_seq[i].reshape((len(data_seq[i]), 1))\n",
        "    data = hstack(data_seq)\n",
        "    n_steps = seq_len\n",
        "    X, y = split_sequences(data, n_steps)\n",
        "    n_features = X.shape[2]\n",
        "    n_seq = len(X)\n",
        "    n_steps = seq_len\n",
        "    print(X.shape)\n",
        "    X = X.reshape((n_seq,1, n_steps, n_features))\n",
        "    true_y = []\n",
        "    for i in range(len(y)):\n",
        "        true_y.append([y[i][0],y[i][1]])\n",
        "    return X,array(true_y),n_features,minmax,n_steps,close,open_,high,low\n"
      ],
      "execution_count": 6,
      "outputs": []
    },
    {
      "cell_type": "code",
      "metadata": {
        "colab": {
          "base_uri": "https://localhost:8080/"
        },
        "id": "uK6y-vcv3RYZ",
        "outputId": "59d9d0ac-39d8-4c22-9eb6-0884df92242c"
      },
      "source": [
        "# Basic exploration of the stock\n",
        "msft = yf.Ticker(\"MSFT\")\n",
        "\n",
        "print(\"OVERALL INFO: \\n\", msft.info)\n",
        "print(\"\\n\")\n",
        "\n",
        "print(\"DIVIDENDS: \\n\", msft.dividends)\n",
        "print(\"\\n\")\n",
        "\n",
        "print(\"MAJOR SHARE HOLDERS: \\n\" ,msft.major_holders)\n",
        "print(\"\\n\")\n",
        "\n",
        "print(\"CASHFLOW: \\n\", msft.cashflow)\n",
        "print(\"\\n\")\n",
        "\n",
        "print(\"EARNINGS: \\n\", msft.earnings )\n",
        "print(\"\\n\")"
      ],
      "execution_count": 47,
      "outputs": [
        {
          "output_type": "stream",
          "text": [
            "OVERALL INFO: \n",
            " {'zip': '98052-6399', 'sector': 'Technology', 'fullTimeEmployees': 163000, 'longBusinessSummary': 'Microsoft Corporation develops, licenses, and supports software, services, devices, and solutions worldwide. Its Productivity and Business Processes segment offers Office, Exchange, SharePoint, Microsoft Teams, Office 365 Security and Compliance, and Skype for Business, as well as related Client Access Licenses (CAL); Skype, Outlook.com, OneDrive, and LinkedIn; and Dynamics 365, a set of cloud-based and on-premises business solutions for small and medium businesses, large organizations, and divisions of enterprises. Its Intelligent Cloud segment licenses SQL and Windows Servers, Visual Studio, System Center, and related CALs; GitHub that provides a collaboration platform and code hosting service for developers; and Azure, a cloud platform. It also offers support services and Microsoft consulting services to assist customers in developing, deploying, and managing Microsoft server and desktop solutions; and training and certification to developers and IT professionals on various Microsoft products. Its More Personal Computing segment provides Windows original equipment manufacturer (OEM) licensing and other non-volume licensing of the Windows operating system; Windows Commercial, such as volume licensing of the Windows operating system, Windows cloud services, and other Windows commercial offerings; patent licensing; Windows Internet of Things; and MSN advertising. It also offers Surface, PC accessories, PCs, tablets, gaming and entertainment consoles, and other devices; Gaming, including Xbox hardware, and Xbox content and services; video games and third-party video game royalties; and Search, including Bing and Microsoft advertising. It sells its products through OEMs, distributors, and resellers; and directly through digital marketplaces, online stores, and retail stores. It has a strategic collaboration with DXC Technology and Dynatrace, Inc. The company was founded in 1975 and is headquartered in Redmond, Washington.', 'city': 'Redmond', 'phone': '425-882-8080', 'state': 'WA', 'country': 'United States', 'companyOfficers': [], 'website': 'http://www.microsoft.com', 'maxAge': 1, 'address1': 'One Microsoft Way', 'industry': 'Software—Infrastructure', 'previousClose': 247.79, 'regularMarketOpen': 249.06, 'twoHundredDayAverage': 229.45662, 'trailingAnnualDividendYield': 0.008838129, 'payoutRatio': 0.2916, 'volume24Hr': None, 'regularMarketDayHigh': 249.499, 'navPrice': None, 'averageDailyVolume10Day': 31649971, 'totalAssets': None, 'regularMarketPreviousClose': 247.79, 'fiftyDayAverage': 248.096, 'trailingAnnualDividendRate': 2.19, 'open': 249.06, 'toCurrency': None, 'averageVolume10days': 31649971, 'expireDate': None, 'yield': None, 'algorithm': None, 'dividendRate': 2.24, 'exDividendDate': 1621382400, 'beta': 0.794263, 'circulatingSupply': None, 'startDate': None, 'regularMarketDayLow': 247.3901, 'priceHint': 2, 'currency': 'USD', 'trailingPE': 33.87299, 'regularMarketVolume': 7679194, 'lastMarket': None, 'maxSupply': None, 'openInterest': None, 'marketCap': 1872047112192, 'volumeAllCurrencies': None, 'strikePrice': None, 'averageVolume': 28282295, 'priceToSalesTrailing12Months': 11.702561, 'dayLow': 247.3901, 'ask': 247.85, 'ytdReturn': None, 'askSize': 800, 'volume': 7679194, 'fiftyTwoWeekHigh': 263.19, 'forwardPE': 29.767664, 'fromCurrency': None, 'fiveYearAvgDividendYield': 1.63, 'fiftyTwoWeekLow': 175.68, 'bid': 247.85, 'tradeable': False, 'dividendYield': 0.009, 'bidSize': 1300, 'dayHigh': 249.499, 'exchange': 'NMS', 'shortName': 'Microsoft Corporation', 'longName': 'Microsoft Corporation', 'exchangeTimezoneName': 'America/New_York', 'exchangeTimezoneShortName': 'EDT', 'isEsgPopulated': False, 'gmtOffSetMilliseconds': '-14400000', 'quoteType': 'EQUITY', 'symbol': 'MSFT', 'messageBoardId': 'finmb_21835', 'market': 'us_market', 'annualHoldingsTurnover': None, 'enterpriseToRevenue': 11.393, 'beta3Year': None, 'profitMargins': 0.35016, 'enterpriseToEbitda': 24.114, '52WeekChange': 0.35745585, 'morningStarRiskRating': None, 'forwardEps': 8.35, 'revenueQuarterlyGrowth': None, 'sharesOutstanding': 7531570176, 'fundInceptionDate': None, 'annualReportExpenseRatio': None, 'bookValue': 17.853, 'sharesShort': 61156879, 'sharesPercentSharesOut': 0.0081, 'fundFamily': None, 'lastFiscalYearEnd': 1593475200, 'heldPercentInstitutions': 0.72383004, 'netIncomeToCommon': 56014999552, 'trailingEps': 7.338, 'lastDividendValue': 0.56, 'SandP52WeekChange': 0.46209478, 'priceToBook': 13.922589, 'heldPercentInsiders': 0.00072999997, 'nextFiscalYearEnd': 1656547200, 'mostRecentQuarter': 1617148800, 'shortRatio': 2.11, 'sharesShortPreviousMonthDate': 1615766400, 'floatShares': 7420408511, 'enterpriseValue': 1822495866880, 'threeYearAverageReturn': None, 'lastSplitDate': 1045526400, 'lastSplitFactor': '2:1', 'legalType': None, 'lastDividendDate': 1613520000, 'morningStarOverallRating': None, 'earningsQuarterlyGrowth': 0.438, 'dateShortInterest': 1618444800, 'pegRatio': 2.01, 'lastCapGain': None, 'shortPercentOfFloat': 0.0081, 'sharesShortPriorMonth': 49574419, 'impliedSharesOutstanding': None, 'category': None, 'fiveYearAverageReturn': None, 'regularMarketPrice': 248.56, 'logo_url': 'https://logo.clearbit.com/microsoft.com'}\n",
            "\n",
            "\n",
            "DIVIDENDS: \n",
            " Date\n",
            "2003-02-19    0.08\n",
            "2003-10-15    0.16\n",
            "2004-08-23    0.08\n",
            "2004-11-15    3.08\n",
            "2005-02-15    0.08\n",
            "              ... \n",
            "2020-02-19    0.51\n",
            "2020-05-20    0.51\n",
            "2020-08-19    0.51\n",
            "2020-11-18    0.56\n",
            "2021-02-17    0.56\n",
            "Name: Dividends, Length: 69, dtype: float64\n",
            "\n",
            "\n",
            "MAJOR SHARE HOLDERS: \n",
            "         0                                      1\n",
            "0   0.07%        % of Shares Held by All Insider\n",
            "1  72.38%       % of Shares Held by Institutions\n",
            "2  72.44%        % of Float Held by Institutions\n",
            "3    5268  Number of Institutions Holding Shares\n",
            "\n",
            "\n",
            "CASHFLOW: \n",
            "                                              2020-06-30  ...    2017-06-30\n",
            "Investments                                6.980000e+09  ... -1.251100e+10\n",
            "Change To Liabilities                      5.230000e+09  ...  3.901000e+09\n",
            "Total Cashflows From Investing Activities -1.222300e+10  ... -4.678100e+10\n",
            "Net Borrowings                            -5.518000e+09  ...  3.145900e+10\n",
            "Total Cash From Financing Activities      -4.603100e+10  ...  8.408000e+09\n",
            "Change To Operating Activities            -6.730000e+08  ...  3.490000e+08\n",
            "Issuance Of Stock                          1.343000e+09  ...  7.720000e+08\n",
            "Net Income                                 4.428100e+10  ...  2.548900e+10\n",
            "Change In Cash                             2.220000e+09  ...  1.153000e+09\n",
            "Repurchase Of Stock                       -2.296800e+10  ... -1.178800e+10\n",
            "Effect Of Exchange Rate                   -2.010000e+08  ...  1.900000e+07\n",
            "Total Cash From Operating Activities       6.067500e+10  ...  3.950700e+10\n",
            "Depreciation                               1.230000e+10  ...  7.800000e+09\n",
            "Other Cashflows From Investing Activities -1.241000e+09  ... -1.970000e+08\n",
            "Dividends Paid                            -1.513700e+10  ... -1.184500e+10\n",
            "Change To Inventory                        1.680000e+08  ...  5.000000e+07\n",
            "Change To Account Receivables             -2.577000e+09  ... -1.216000e+09\n",
            "Other Cashflows From Financing Activities -3.751000e+09  ... -1.900000e+08\n",
            "Change To Netincome                        5.577000e+09  ...  1.342000e+09\n",
            "Capital Expenditures                      -1.544100e+10  ... -8.129000e+09\n",
            "\n",
            "[20 rows x 4 columns]\n",
            "\n",
            "\n",
            "EARNINGS: \n",
            "            Revenue     Earnings\n",
            "Year                           \n",
            "2017   96571000000  25489000000\n",
            "2018  110360000000  16571000000\n",
            "2019  125843000000  39240000000\n",
            "2020  143015000000  44281000000\n",
            "\n",
            "\n"
          ],
          "name": "stdout"
        }
      ]
    },
    {
      "cell_type": "code",
      "metadata": {
        "colab": {
          "base_uri": "https://localhost:8080/"
        },
        "id": "p1otflAzl_PS",
        "outputId": "e36ee843-e940-4d14-ca2a-59f75cc51b0b"
      },
      "source": [
        "X,y,n_features,minmax,n_steps,close,open,high,low= data_setup('MSFT',365,10)"
      ],
      "execution_count": 40,
      "outputs": [
        {
          "output_type": "stream",
          "text": [
            "\r[*********************100%***********************]  1 of 1 completed\n",
            "(534, 10, 4)\n"
          ],
          "name": "stdout"
        }
      ]
    },
    {
      "cell_type": "code",
      "metadata": {
        "id": "R5BOuJqgxQDz"
      },
      "source": [
        "X_train, X_test, y_train, y_test= train_test_split(X, y, test_size=0.33)"
      ],
      "execution_count": 41,
      "outputs": []
    },
    {
      "cell_type": "code",
      "metadata": {
        "colab": {
          "base_uri": "https://localhost:8080/"
        },
        "id": "qGlywDLmxBgf",
        "outputId": "94b89fda-98cb-4732-e91d-7427b4c14c81"
      },
      "source": [
        "model,history=train_model_1(X_train,y_train,n_steps, n_features,epochs=20)"
      ],
      "execution_count": 42,
      "outputs": [
        {
          "output_type": "stream",
          "text": [
            "Epoch 1/20\n",
            "3/3 - 2s - loss: 0.2340 - val_loss: 0.1981\n",
            "Epoch 2/20\n",
            "3/3 - 0s - loss: 0.1703 - val_loss: 0.1358\n",
            "Epoch 3/20\n",
            "3/3 - 0s - loss: 0.1112 - val_loss: 0.0781\n",
            "Epoch 4/20\n",
            "3/3 - 0s - loss: 0.0580 - val_loss: 0.0304\n",
            "Epoch 5/20\n",
            "3/3 - 0s - loss: 0.0192 - val_loss: 0.0083\n",
            "Epoch 6/20\n",
            "3/3 - 0s - loss: 0.0096 - val_loss: 0.0139\n",
            "Epoch 7/20\n",
            "3/3 - 0s - loss: 0.0184 - val_loss: 0.0154\n",
            "Epoch 8/20\n",
            "3/3 - 0s - loss: 0.0158 - val_loss: 0.0077\n",
            "Epoch 9/20\n",
            "3/3 - 0s - loss: 0.0073 - val_loss: 0.0043\n",
            "Epoch 10/20\n",
            "3/3 - 0s - loss: 0.0047 - val_loss: 0.0058\n",
            "Epoch 11/20\n",
            "3/3 - 0s - loss: 0.0056 - val_loss: 0.0071\n",
            "Epoch 12/20\n",
            "3/3 - 0s - loss: 0.0059 - val_loss: 0.0062\n",
            "Epoch 13/20\n",
            "3/3 - 0s - loss: 0.0046 - val_loss: 0.0041\n",
            "Epoch 14/20\n",
            "3/3 - 0s - loss: 0.0030 - val_loss: 0.0028\n",
            "Epoch 15/20\n",
            "3/3 - 0s - loss: 0.0025 - val_loss: 0.0027\n",
            "Epoch 16/20\n",
            "3/3 - 0s - loss: 0.0031 - val_loss: 0.0027\n",
            "Epoch 17/20\n",
            "3/3 - 0s - loss: 0.0030 - val_loss: 0.0022\n",
            "Epoch 18/20\n",
            "3/3 - 0s - loss: 0.0023 - val_loss: 0.0018\n",
            "Epoch 19/20\n",
            "3/3 - 0s - loss: 0.0020 - val_loss: 0.0021\n",
            "Epoch 20/20\n",
            "3/3 - 0s - loss: 0.0021 - val_loss: 0.0024\n"
          ],
          "name": "stdout"
        }
      ]
    },
    {
      "cell_type": "code",
      "metadata": {
        "colab": {
          "base_uri": "https://localhost:8080/"
        },
        "id": "JYq8xJnoy3F_",
        "outputId": "1f80ee5d-1781-40ce-818e-2981ccacd951"
      },
      "source": [
        "_,eval_test_loss=evaluation(exe_time=2,X_test=X_test, y_test=y_test,\n",
        "                                X_train=X_train, y_train= y_train,\n",
        "                                history=history,model= model,optimizer='adam',loss='mse')"
      ],
      "execution_count": 43,
      "outputs": [
        {
          "output_type": "stream",
          "text": [
            "--- Training Report ---\n",
            "Execution time:  2 s\n",
            "Testing Accuracy: 99.8 %\n",
            "Training Accuracy: 99.8 %\n",
            "Average Network Accuracy: 99.8 %\n"
          ],
          "name": "stdout"
        }
      ]
    }
  ]
}